{
 "cells": [
  {
   "cell_type": "markdown",
   "metadata": {},
   "source": [
    "# Air Traffic Model Prototyping\n",
    "\n",
    "This notebook defines a prototype air traffic model.\n",
    "\n",
    "This model makes the following assumptions:\n",
    "- A crew is available when each aircraft wants to depart (i.e. crew factors do not affect schedule),\n",
    "- Each airport has one runway shared by arrivals and departures, and no limit to the number of aircraft who can be waiting to use it, so they are modeled as M/M/1/inf/FIFO queues"
   ]
  },
  {
   "cell_type": "code",
   "execution_count": 1,
   "metadata": {},
   "outputs": [
    {
     "name": "stderr",
     "output_type": "stream",
     "text": [
      "/home/cbd/.cache/pypoetry/virtualenvs/bayes-air-kfmWatce-py3.10/lib/python3.10/site-packages/tqdm/auto.py:21: TqdmWarning: IProgress not found. Please update jupyter and ipywidgets. See https://ipywidgets.readthedocs.io/en/stable/user_install.html\n",
      "  from .autonotebook import tqdm as notebook_tqdm\n",
      "DEBUG:matplotlib.pyplot:Loaded backend module://matplotlib_inline.backend_inline version unknown.\n",
      "DEBUG:matplotlib.pyplot:Loaded backend module://matplotlib_inline.backend_inline version unknown.\n"
     ]
    }
   ],
   "source": [
    "# Import and setup\n",
    "import logging\n",
    "import pprint\n",
    "\n",
    "import pandas as pd\n",
    "import matplotlib.pyplot as plt\n",
    "\n",
    "import pyro\n",
    "\n",
    "from bayes_air.model import air_traffic_network_model\n",
    "from bayes_air.network import NetworkState\n",
    "from bayes_air.schedule import parse_schedule\n",
    "\n",
    "pyro.enable_validation(True)\n",
    "pyro.set_rng_seed(1)\n",
    "logging.basicConfig(level=logging.DEBUG)\n",
    "\n",
    "# Set matplotlib settings\n",
    "%matplotlib inline\n",
    "plt.style.use('default')"
   ]
  },
  {
   "cell_type": "code",
   "execution_count": 4,
   "metadata": {},
   "outputs": [],
   "source": [
    "# Define a simple schedule that sends the aircraft from airport 0 to airport 1 and back\n",
    "# Time is defined in hours from the start of the simulation\n",
    "schedule = pd.DataFrame(\n",
    "    {\n",
    "        \"flight_number\": [\"F1\", \"F1\"],\n",
    "        \"origin_airport\": [\"A1\", \"A2\"],\n",
    "        \"destination_airport\": [\"A2\", \"A1\"],\n",
    "        \"scheduled_departure_time\": [0.0, 1.5],\n",
    "        \"scheduled_arrival_time\": [1.0, 3.0],\n",
    "        \"actual_departure_time\": [None, None],\n",
    "        \"actual_arrival_time\": [None, None],\n",
    "    }\n",
    ")\n",
    "\n",
    "flights, airports = parse_schedule(schedule)\n",
    "airports[0].num_available_aircraft = 1\n",
    "state = NetworkState(\n",
    "    airports={airport.code: airport for airport in airports},\n",
    "    pending_flights=flights,\n",
    ")"
   ]
  },
  {
   "cell_type": "code",
   "execution_count": 5,
   "metadata": {},
   "outputs": [
    {
     "name": "stdout",
     "output_type": "stream",
     "text": [
      "[t=0.1] A1 has 1 aircraft available\n",
      "[t=0.1] A2 has 0 aircraft available\n"
     ]
    },
    {
     "ename": "RuntimeError",
     "evalue": "output with shape [] doesn't match the broadcast shape [0]\n                       Trace Shapes:    \n                        Param Sites:    \n                       Sample Sites:    \n        A1_mean_turnaround_time dist   |\n                               value   |\n        A2_mean_turnaround_time dist   |\n                               value   |\n           A1_mean_service_time dist   |\n                               value   |\n           A2_mean_service_time dist   |\n                               value   |\n              travel_time_A1_A2 dist   |\n                               value   |\n              travel_time_A2_A1 dist   |\n                               value   |\nF1_A1_A2_departure_service_time dist   |\n                               value 0 |",
     "output_type": "error",
     "traceback": [
      "\u001b[0;31m---------------------------------------------------------------------------\u001b[0m",
      "\u001b[0;31mRuntimeError\u001b[0m                              Traceback (most recent call last)",
      "File \u001b[0;32m~/.cache/pypoetry/virtualenvs/bayes-air-kfmWatce-py3.10/lib/python3.10/site-packages/pyro/poutine/trace_messenger.py:174\u001b[0m, in \u001b[0;36mTraceHandler.__call__\u001b[0;34m(self, *args, **kwargs)\u001b[0m\n\u001b[1;32m    173\u001b[0m \u001b[39mtry\u001b[39;00m:\n\u001b[0;32m--> 174\u001b[0m     ret \u001b[39m=\u001b[39m \u001b[39mself\u001b[39;49m\u001b[39m.\u001b[39;49mfn(\u001b[39m*\u001b[39;49margs, \u001b[39m*\u001b[39;49m\u001b[39m*\u001b[39;49mkwargs)\n\u001b[1;32m    175\u001b[0m \u001b[39mexcept\u001b[39;00m (\u001b[39mValueError\u001b[39;00m, \u001b[39mRuntimeError\u001b[39;00m) \u001b[39mas\u001b[39;00m e:\n",
      "File \u001b[0;32m~/src/mit/bayes_air/bayes_air/model.py:80\u001b[0m, in \u001b[0;36mair_traffic_network_model\u001b[0;34m(state, T, delta_t)\u001b[0m\n\u001b[1;32m     79\u001b[0m \u001b[39mfor\u001b[39;00m airport \u001b[39min\u001b[39;00m state\u001b[39m.\u001b[39mairports\u001b[39m.\u001b[39mvalues():\n\u001b[0;32m---> 80\u001b[0m     departed_flights, landing_flights \u001b[39m=\u001b[39m airport\u001b[39m.\u001b[39;49mupdate_runway_queue(t)\n\u001b[1;32m     82\u001b[0m     \u001b[39m# Departing flights get added to the in-transit list, while landed flights\u001b[39;00m\n\u001b[1;32m     83\u001b[0m     \u001b[39m# get added to the completed list\u001b[39;00m\n",
      "File \u001b[0;32m~/src/mit/bayes_air/bayes_air/types/airport.py:98\u001b[0m, in \u001b[0;36mAirport.update_runway_queue\u001b[0;34m(self, time)\u001b[0m\n\u001b[1;32m     97\u001b[0m \u001b[39mif\u001b[39;00m \u001b[39mself\u001b[39m\u001b[39m.\u001b[39mrunway_queue[\u001b[39m0\u001b[39m]\u001b[39m.\u001b[39massigned_service_time \u001b[39mis\u001b[39;00m \u001b[39mNone\u001b[39;00m:\n\u001b[0;32m---> 98\u001b[0m     \u001b[39mself\u001b[39;49m\u001b[39m.\u001b[39;49m_assign_service_time(\u001b[39mself\u001b[39;49m\u001b[39m.\u001b[39;49mrunway_queue[\u001b[39m0\u001b[39;49m]\u001b[39m.\u001b[39;49mflight, time)\n\u001b[1;32m    100\u001b[0m \u001b[39m# If the service time has elapsed, it takes off or lands\u001b[39;00m\n",
      "File \u001b[0;32m~/src/mit/bayes_air/bayes_air/types/airport.py:139\u001b[0m, in \u001b[0;36mAirport._assign_service_time\u001b[0;34m(self, flight, time)\u001b[0m\n\u001b[1;32m    138\u001b[0m \u001b[39mfor\u001b[39;00m queue_entry \u001b[39min\u001b[39;00m \u001b[39mself\u001b[39m\u001b[39m.\u001b[39mrunway_queue:\n\u001b[0;32m--> 139\u001b[0m     queue_entry\u001b[39m.\u001b[39mtotal_wait_time \u001b[39m+\u001b[39m\u001b[39m=\u001b[39m service_time\n",
      "File \u001b[0;32m~/.cache/pypoetry/virtualenvs/bayes-air-kfmWatce-py3.10/lib/python3.10/site-packages/pyro/ops/provenance.py:67\u001b[0m, in \u001b[0;36mProvenanceTensor.__torch_function__\u001b[0;34m(cls, func, types, args, kwargs)\u001b[0m\n\u001b[1;32m     66\u001b[0m _args, _kwargs \u001b[39m=\u001b[39m detach_provenance([args, kwargs \u001b[39mor\u001b[39;00m {}])\n\u001b[0;32m---> 67\u001b[0m ret \u001b[39m=\u001b[39m func(\u001b[39m*\u001b[39;49m_args, \u001b[39m*\u001b[39;49m\u001b[39m*\u001b[39;49m_kwargs)\n\u001b[1;32m     68\u001b[0m \u001b[39mreturn\u001b[39;00m track_provenance(ret, get_provenance([args, kwargs]))\n",
      "\u001b[0;31mRuntimeError\u001b[0m: output with shape [] doesn't match the broadcast shape [0]",
      "\nThe above exception was the direct cause of the following exception:\n",
      "\u001b[0;31mRuntimeError\u001b[0m                              Traceback (most recent call last)",
      "\u001b[1;32m/home/cbd/src/mit/bayes_air/notebooks/air_traffic_modelling.ipynb Cell 4\u001b[0m line \u001b[0;36m1\n\u001b[0;32m----> <a href='vscode-notebook-cell:/home/cbd/src/mit/bayes_air/notebooks/air_traffic_modelling.ipynb#W4sZmlsZQ%3D%3D?line=0'>1</a>\u001b[0m pyro\u001b[39m.\u001b[39;49mrender_model(\n\u001b[1;32m      <a href='vscode-notebook-cell:/home/cbd/src/mit/bayes_air/notebooks/air_traffic_modelling.ipynb#W4sZmlsZQ%3D%3D?line=1'>2</a>\u001b[0m     air_traffic_network_model,\n\u001b[1;32m      <a href='vscode-notebook-cell:/home/cbd/src/mit/bayes_air/notebooks/air_traffic_modelling.ipynb#W4sZmlsZQ%3D%3D?line=2'>3</a>\u001b[0m     model_args\u001b[39m=\u001b[39;49m(state, \u001b[39m5.0\u001b[39;49m, \u001b[39m0.1\u001b[39;49m),\n\u001b[1;32m      <a href='vscode-notebook-cell:/home/cbd/src/mit/bayes_air/notebooks/air_traffic_modelling.ipynb#W4sZmlsZQ%3D%3D?line=3'>4</a>\u001b[0m     render_params\u001b[39m=\u001b[39;49m\u001b[39mTrue\u001b[39;49;00m,\n\u001b[1;32m      <a href='vscode-notebook-cell:/home/cbd/src/mit/bayes_air/notebooks/air_traffic_modelling.ipynb#W4sZmlsZQ%3D%3D?line=4'>5</a>\u001b[0m     render_distributions\u001b[39m=\u001b[39;49m\u001b[39mTrue\u001b[39;49;00m,\n\u001b[1;32m      <a href='vscode-notebook-cell:/home/cbd/src/mit/bayes_air/notebooks/air_traffic_modelling.ipynb#W4sZmlsZQ%3D%3D?line=5'>6</a>\u001b[0m )\n",
      "File \u001b[0;32m~/.cache/pypoetry/virtualenvs/bayes-air-kfmWatce-py3.10/lib/python3.10/site-packages/pyro/infer/inspect.py:585\u001b[0m, in \u001b[0;36mrender_model\u001b[0;34m(model, model_args, model_kwargs, filename, render_distributions, render_params)\u001b[0m\n\u001b[1;32m    583\u001b[0m \u001b[39m# Get model relations.\u001b[39;00m\n\u001b[1;32m    584\u001b[0m \u001b[39mif\u001b[39;00m \u001b[39mnot\u001b[39;00m \u001b[39misinstance\u001b[39m(model_args, \u001b[39mlist\u001b[39m) \u001b[39mand\u001b[39;00m \u001b[39mnot\u001b[39;00m \u001b[39misinstance\u001b[39m(model_kwargs, \u001b[39mlist\u001b[39m):\n\u001b[0;32m--> 585\u001b[0m     relations \u001b[39m=\u001b[39m [get_model_relations(model, model_args, model_kwargs)]\n\u001b[1;32m    586\u001b[0m \u001b[39melse\u001b[39;00m:  \u001b[39m# semisupervised\u001b[39;00m\n\u001b[1;32m    587\u001b[0m     \u001b[39mif\u001b[39;00m \u001b[39misinstance\u001b[39m(model_args, \u001b[39mlist\u001b[39m):\n",
      "File \u001b[0;32m~/.cache/pypoetry/virtualenvs/bayes-air-kfmWatce-py3.10/lib/python3.10/site-packages/pyro/infer/inspect.py:285\u001b[0m, in \u001b[0;36mget_model_relations\u001b[0;34m(model, model_args, model_kwargs)\u001b[0m\n\u001b[1;32m    283\u001b[0m \u001b[39mwith\u001b[39;00m torch\u001b[39m.\u001b[39mrandom\u001b[39m.\u001b[39mfork_rng(), torch\u001b[39m.\u001b[39mno_grad(), pyro\u001b[39m.\u001b[39mvalidation_enabled(\u001b[39mFalse\u001b[39;00m):\n\u001b[1;32m    284\u001b[0m     \u001b[39mwith\u001b[39;00m TrackProvenance():\n\u001b[0;32m--> 285\u001b[0m         trace \u001b[39m=\u001b[39m poutine\u001b[39m.\u001b[39;49mtrace(model)\u001b[39m.\u001b[39;49mget_trace(\u001b[39m*\u001b[39;49mmodel_args, \u001b[39m*\u001b[39;49m\u001b[39m*\u001b[39;49mmodel_kwargs)\n\u001b[1;32m    287\u001b[0m sample_sample \u001b[39m=\u001b[39m {}\n\u001b[1;32m    288\u001b[0m sample_param \u001b[39m=\u001b[39m {}\n",
      "File \u001b[0;32m~/.cache/pypoetry/virtualenvs/bayes-air-kfmWatce-py3.10/lib/python3.10/site-packages/pyro/poutine/trace_messenger.py:198\u001b[0m, in \u001b[0;36mTraceHandler.get_trace\u001b[0;34m(self, *args, **kwargs)\u001b[0m\n\u001b[1;32m    190\u001b[0m \u001b[39mdef\u001b[39;00m \u001b[39mget_trace\u001b[39m(\u001b[39mself\u001b[39m, \u001b[39m*\u001b[39margs, \u001b[39m*\u001b[39m\u001b[39m*\u001b[39mkwargs):\n\u001b[1;32m    191\u001b[0m \u001b[39m    \u001b[39m\u001b[39m\"\"\"\u001b[39;00m\n\u001b[1;32m    192\u001b[0m \u001b[39m    :returns: data structure\u001b[39;00m\n\u001b[1;32m    193\u001b[0m \u001b[39m    :rtype: pyro.poutine.Trace\u001b[39;00m\n\u001b[0;32m   (...)\u001b[0m\n\u001b[1;32m    196\u001b[0m \u001b[39m    Calls this poutine and returns its trace instead of the function's return value.\u001b[39;00m\n\u001b[1;32m    197\u001b[0m \u001b[39m    \"\"\"\u001b[39;00m\n\u001b[0;32m--> 198\u001b[0m     \u001b[39mself\u001b[39;49m(\u001b[39m*\u001b[39;49margs, \u001b[39m*\u001b[39;49m\u001b[39m*\u001b[39;49mkwargs)\n\u001b[1;32m    199\u001b[0m     \u001b[39mreturn\u001b[39;00m \u001b[39mself\u001b[39m\u001b[39m.\u001b[39mmsngr\u001b[39m.\u001b[39mget_trace()\n",
      "File \u001b[0;32m~/.cache/pypoetry/virtualenvs/bayes-air-kfmWatce-py3.10/lib/python3.10/site-packages/pyro/poutine/trace_messenger.py:180\u001b[0m, in \u001b[0;36mTraceHandler.__call__\u001b[0;34m(self, *args, **kwargs)\u001b[0m\n\u001b[1;32m    178\u001b[0m         exc \u001b[39m=\u001b[39m exc_type(\u001b[39m\"\u001b[39m\u001b[39m{}\u001b[39;00m\u001b[39m\\n\u001b[39;00m\u001b[39m{}\u001b[39;00m\u001b[39m\"\u001b[39m\u001b[39m.\u001b[39mformat(exc_value, shapes))\n\u001b[1;32m    179\u001b[0m         exc \u001b[39m=\u001b[39m exc\u001b[39m.\u001b[39mwith_traceback(traceback)\n\u001b[0;32m--> 180\u001b[0m         \u001b[39mraise\u001b[39;00m exc \u001b[39mfrom\u001b[39;00m \u001b[39me\u001b[39;00m\n\u001b[1;32m    181\u001b[0m     \u001b[39mself\u001b[39m\u001b[39m.\u001b[39mmsngr\u001b[39m.\u001b[39mtrace\u001b[39m.\u001b[39madd_node(\n\u001b[1;32m    182\u001b[0m         \u001b[39m\"\u001b[39m\u001b[39m_RETURN\u001b[39m\u001b[39m\"\u001b[39m, name\u001b[39m=\u001b[39m\u001b[39m\"\u001b[39m\u001b[39m_RETURN\u001b[39m\u001b[39m\"\u001b[39m, \u001b[39mtype\u001b[39m\u001b[39m=\u001b[39m\u001b[39m\"\u001b[39m\u001b[39mreturn\u001b[39m\u001b[39m\"\u001b[39m, value\u001b[39m=\u001b[39mret\n\u001b[1;32m    183\u001b[0m     )\n\u001b[1;32m    184\u001b[0m \u001b[39mreturn\u001b[39;00m ret\n",
      "File \u001b[0;32m~/.cache/pypoetry/virtualenvs/bayes-air-kfmWatce-py3.10/lib/python3.10/site-packages/pyro/poutine/trace_messenger.py:174\u001b[0m, in \u001b[0;36mTraceHandler.__call__\u001b[0;34m(self, *args, **kwargs)\u001b[0m\n\u001b[1;32m    170\u001b[0m \u001b[39mself\u001b[39m\u001b[39m.\u001b[39mmsngr\u001b[39m.\u001b[39mtrace\u001b[39m.\u001b[39madd_node(\n\u001b[1;32m    171\u001b[0m     \u001b[39m\"\u001b[39m\u001b[39m_INPUT\u001b[39m\u001b[39m\"\u001b[39m, name\u001b[39m=\u001b[39m\u001b[39m\"\u001b[39m\u001b[39m_INPUT\u001b[39m\u001b[39m\"\u001b[39m, \u001b[39mtype\u001b[39m\u001b[39m=\u001b[39m\u001b[39m\"\u001b[39m\u001b[39margs\u001b[39m\u001b[39m\"\u001b[39m, args\u001b[39m=\u001b[39margs, kwargs\u001b[39m=\u001b[39mkwargs\n\u001b[1;32m    172\u001b[0m )\n\u001b[1;32m    173\u001b[0m \u001b[39mtry\u001b[39;00m:\n\u001b[0;32m--> 174\u001b[0m     ret \u001b[39m=\u001b[39m \u001b[39mself\u001b[39;49m\u001b[39m.\u001b[39;49mfn(\u001b[39m*\u001b[39;49margs, \u001b[39m*\u001b[39;49m\u001b[39m*\u001b[39;49mkwargs)\n\u001b[1;32m    175\u001b[0m \u001b[39mexcept\u001b[39;00m (\u001b[39mValueError\u001b[39;00m, \u001b[39mRuntimeError\u001b[39;00m) \u001b[39mas\u001b[39;00m e:\n\u001b[1;32m    176\u001b[0m     exc_type, exc_value, traceback \u001b[39m=\u001b[39m sys\u001b[39m.\u001b[39mexc_info()\n",
      "File \u001b[0;32m~/src/mit/bayes_air/bayes_air/model.py:80\u001b[0m, in \u001b[0;36mair_traffic_network_model\u001b[0;34m(state, T, delta_t)\u001b[0m\n\u001b[1;32m     78\u001b[0m \u001b[39m# All flights that are using the runway get serviced\u001b[39;00m\n\u001b[1;32m     79\u001b[0m \u001b[39mfor\u001b[39;00m airport \u001b[39min\u001b[39;00m state\u001b[39m.\u001b[39mairports\u001b[39m.\u001b[39mvalues():\n\u001b[0;32m---> 80\u001b[0m     departed_flights, landing_flights \u001b[39m=\u001b[39m airport\u001b[39m.\u001b[39;49mupdate_runway_queue(t)\n\u001b[1;32m     82\u001b[0m     \u001b[39m# Departing flights get added to the in-transit list, while landed flights\u001b[39;00m\n\u001b[1;32m     83\u001b[0m     \u001b[39m# get added to the completed list\u001b[39;00m\n\u001b[1;32m     84\u001b[0m     state\u001b[39m.\u001b[39madd_in_transit_flights(\n\u001b[1;32m     85\u001b[0m         departed_flights, t, travel_times, travel_time_variation\n\u001b[1;32m     86\u001b[0m     )\n",
      "File \u001b[0;32m~/src/mit/bayes_air/bayes_air/types/airport.py:98\u001b[0m, in \u001b[0;36mAirport.update_runway_queue\u001b[0;34m(self, time)\u001b[0m\n\u001b[1;32m     91\u001b[0m \u001b[39mwhile\u001b[39;00m \u001b[39mself\u001b[39m\u001b[39m.\u001b[39mrunway_queue \u001b[39mand\u001b[39;00m (\n\u001b[1;32m     92\u001b[0m     \u001b[39mself\u001b[39m\u001b[39m.\u001b[39mrunway_queue[\u001b[39m0\u001b[39m]\u001b[39m.\u001b[39massigned_service_time \u001b[39mis\u001b[39;00m \u001b[39mNone\u001b[39;00m\n\u001b[1;32m     93\u001b[0m     \u001b[39mor\u001b[39;00m \u001b[39mself\u001b[39m\u001b[39m.\u001b[39mrunway_queue[\u001b[39m0\u001b[39m]\u001b[39m.\u001b[39massigned_service_time \u001b[39m<\u001b[39m\u001b[39m=\u001b[39m time\n\u001b[1;32m     94\u001b[0m ):\n\u001b[1;32m     95\u001b[0m     \u001b[39m# If no service time is assigned, assign one now by sampling from\u001b[39;00m\n\u001b[1;32m     96\u001b[0m     \u001b[39m# the service time distribution\u001b[39;00m\n\u001b[1;32m     97\u001b[0m     \u001b[39mif\u001b[39;00m \u001b[39mself\u001b[39m\u001b[39m.\u001b[39mrunway_queue[\u001b[39m0\u001b[39m]\u001b[39m.\u001b[39massigned_service_time \u001b[39mis\u001b[39;00m \u001b[39mNone\u001b[39;00m:\n\u001b[0;32m---> 98\u001b[0m         \u001b[39mself\u001b[39;49m\u001b[39m.\u001b[39;49m_assign_service_time(\u001b[39mself\u001b[39;49m\u001b[39m.\u001b[39;49mrunway_queue[\u001b[39m0\u001b[39;49m]\u001b[39m.\u001b[39;49mflight, time)\n\u001b[1;32m    100\u001b[0m     \u001b[39m# If the service time has elapsed, it takes off or lands\u001b[39;00m\n\u001b[1;32m    101\u001b[0m     \u001b[39mif\u001b[39;00m \u001b[39mself\u001b[39m\u001b[39m.\u001b[39mrunway_queue[\u001b[39m0\u001b[39m]\u001b[39m.\u001b[39massigned_service_time \u001b[39m<\u001b[39m\u001b[39m=\u001b[39m time:\n",
      "File \u001b[0;32m~/src/mit/bayes_air/bayes_air/types/airport.py:139\u001b[0m, in \u001b[0;36mAirport._assign_service_time\u001b[0;34m(self, flight, time)\u001b[0m\n\u001b[1;32m    137\u001b[0m \u001b[39m# Update the waiting times for all aircraft\u001b[39;00m\n\u001b[1;32m    138\u001b[0m \u001b[39mfor\u001b[39;00m queue_entry \u001b[39min\u001b[39;00m \u001b[39mself\u001b[39m\u001b[39m.\u001b[39mrunway_queue:\n\u001b[0;32m--> 139\u001b[0m     queue_entry\u001b[39m.\u001b[39mtotal_wait_time \u001b[39m+\u001b[39m\u001b[39m=\u001b[39m service_time\n",
      "File \u001b[0;32m~/.cache/pypoetry/virtualenvs/bayes-air-kfmWatce-py3.10/lib/python3.10/site-packages/pyro/ops/provenance.py:67\u001b[0m, in \u001b[0;36mProvenanceTensor.__torch_function__\u001b[0;34m(cls, func, types, args, kwargs)\u001b[0m\n\u001b[1;32m     64\u001b[0m \u001b[39m@classmethod\u001b[39m\n\u001b[1;32m     65\u001b[0m \u001b[39mdef\u001b[39;00m \u001b[39m__torch_function__\u001b[39m(\u001b[39mcls\u001b[39m, func, types, args\u001b[39m=\u001b[39m(), kwargs\u001b[39m=\u001b[39m\u001b[39mNone\u001b[39;00m):\n\u001b[1;32m     66\u001b[0m     _args, _kwargs \u001b[39m=\u001b[39m detach_provenance([args, kwargs \u001b[39mor\u001b[39;00m {}])\n\u001b[0;32m---> 67\u001b[0m     ret \u001b[39m=\u001b[39m func(\u001b[39m*\u001b[39;49m_args, \u001b[39m*\u001b[39;49m\u001b[39m*\u001b[39;49m_kwargs)\n\u001b[1;32m     68\u001b[0m     \u001b[39mreturn\u001b[39;00m track_provenance(ret, get_provenance([args, kwargs]))\n",
      "\u001b[0;31mRuntimeError\u001b[0m: output with shape [] doesn't match the broadcast shape [0]\n                       Trace Shapes:    \n                        Param Sites:    \n                       Sample Sites:    \n        A1_mean_turnaround_time dist   |\n                               value   |\n        A2_mean_turnaround_time dist   |\n                               value   |\n           A1_mean_service_time dist   |\n                               value   |\n           A2_mean_service_time dist   |\n                               value   |\n              travel_time_A1_A2 dist   |\n                               value   |\n              travel_time_A2_A1 dist   |\n                               value   |\nF1_A1_A2_departure_service_time dist   |\n                               value 0 |"
     ]
    }
   ],
   "source": [
    "\n",
    "pyro.render_model(\n",
    "    air_traffic_network_model,\n",
    "    model_args=(state, 5.0, 0.1),\n",
    "    render_params=True,\n",
    "    render_distributions=True,\n",
    ")"
   ]
  },
  {
   "cell_type": "code",
   "execution_count": 7,
   "metadata": {},
   "outputs": [
    {
     "name": "stdout",
     "output_type": "stream",
     "text": [
      "Sampling service time 0.151164710521698 with rate 6.532366752624512\n",
      "Sampling service time 0.024991368874907494 with rate 5.522851943969727\n",
      "Sampling service time 0.17981043457984924 with rate 5.522851943969727\n",
      "Sampling service time 0.11915569752454758 with rate 6.532366752624512\n",
      "State(in_flight_aircraft=[],\n",
      "      airports={'A1': Airport(code='A1',\n",
      "                              runway_queue=[],\n",
      "                              parked_aircraft=[(Aircraft(tail_number='N1',\n",
      "                                                         itinerary=[ItineraryItem(origin='A1',\n",
      "                                                                                  destination='A2',\n",
      "                                                                                  scheduled_departure_time=0.0,\n",
      "                                                                                  scheduled_arrival_time=1.0,\n",
      "                                                                                  actual_departure_time=tensor(0.1290),\n",
      "                                                                                  actual_arrival_time=tensor(1.0439)),\n",
      "                                                                    ItineraryItem(origin='A2',\n",
      "                                                                                  destination='A1',\n",
      "                                                                                  scheduled_departure_time=1.5,\n",
      "                                                                                  scheduled_arrival_time=3.0,\n",
      "                                                                                  actual_departure_time=tensor(2.0398),\n",
      "                                                                                  actual_arrival_time=tensor(3.1554))],\n",
      "                                                         _current_itinerary_item_idx=1),\n",
      "                                                inf)]),\n",
      "                'A2': Airport(code='A2', runway_queue=[], parked_aircraft=[])})\n"
     ]
    },
    {
     "name": "stderr",
     "output_type": "stream",
     "text": [
      "/home/cbd/src/mit/bayes_air/bayes_air/model.py:131: UserWarning: To copy construct from a tensor, it is recommended to use sourceTensor.clone().detach() or sourceTensor.clone().detach().requires_grad_(True), rather than torch.tensor(sourceTensor).\n",
      "  torch.tensor(1.0 / airport_service_times[airport.code])\n"
     ]
    }
   ],
   "source": [
    "simulated_state = air_traffic_network_model(state, 5.0, 0.1)\n",
    "pprint.pprint(simulated_state)"
   ]
  }
 ],
 "metadata": {
  "kernelspec": {
   "display_name": "bayes-air-kfmWatce-py3.10",
   "language": "python",
   "name": "python3"
  },
  "language_info": {
   "codemirror_mode": {
    "name": "ipython",
    "version": 3
   },
   "file_extension": ".py",
   "mimetype": "text/x-python",
   "name": "python",
   "nbconvert_exporter": "python",
   "pygments_lexer": "ipython3",
   "version": "3.10.12"
  }
 },
 "nbformat": 4,
 "nbformat_minor": 2
}
