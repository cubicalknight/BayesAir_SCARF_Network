{
 "cells": [
  {
   "cell_type": "code",
   "execution_count": 12,
   "metadata": {},
   "outputs": [],
   "source": [
    "from pathlib import Path\n",
    "import torch\n",
    "import zuko"
   ]
  },
  {
   "cell_type": "code",
   "execution_count": 15,
   "metadata": {},
   "outputs": [
    {
     "name": "stdout",
     "output_type": "stream",
     "text": [
      "tensor(0.0260)\n"
     ]
    }
   ],
   "source": [
    "dir_path = Path.cwd()\n",
    "\n",
    "# /bayes-air-atrds-attempt-8/checkpoints/nsf_730\n",
    "ckpt_path = dir_path / 'bayes-air-atrds-attempt-8/checkpoints/nsf_730/checkpoint_0.pt'\n",
    "\n",
    "ckpt_dict = torch.load(ckpt_path)\n",
    "# print(ckpt_dict)\n",
    "\n",
    "guide_state_dict = ckpt_dict['guide']\n",
    "\n",
    "guide = zuko.flows.NSF(\n",
    "    features=1,\n",
    "    context=5,\n",
    "    hidden_features=(16, 16),\n",
    "    bins=4,\n",
    ") #this is the only one that really works??\n",
    "\n",
    "samples = guide(torch.tensor([1.0, 0.0, 0.0, 0.0, 1.0])).sample((1000,))\n",
    "\n",
    "def transform_sample(sample):\n",
    "    # return .02+.015*torch.tanh(a*sample)\n",
    "    return .004 * sample + .02\n",
    "\n",
    "print(transform_sample(samples).mean())\n"
   ]
  }
 ],
 "metadata": {
  "kernelspec": {
   "display_name": "bayes-air-LsmgEu8U-py3.10",
   "language": "python",
   "name": "python3"
  },
  "language_info": {
   "codemirror_mode": {
    "name": "ipython",
    "version": 3
   },
   "file_extension": ".py",
   "mimetype": "text/x-python",
   "name": "python",
   "nbconvert_exporter": "python",
   "pygments_lexer": "ipython3",
   "version": "3.10.7"
  }
 },
 "nbformat": 4,
 "nbformat_minor": 2
}
