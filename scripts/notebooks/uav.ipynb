{
 "cells": [
  {
   "cell_type": "code",
   "execution_count": 2,
   "metadata": {},
   "outputs": [],
   "source": [
    "import os\n",
    "\n",
    "import torch\n",
    "import matplotlib\n",
    "import matplotlib.pyplot as plt\n",
    "import seaborn as sns\n",
    "import pandas as pd\n",
    "import pyro\n",
    "import pyro.distributions as dist\n",
    "import zuko\n",
    "import numpy as np\n",
    "from tqdm import tqdm\n",
    "import IPython\n",
    "\n",
    "sns.set(style=\"white\", context=\"notebook\", palette=\"deep\", color_codes=True)"
   ]
  },
  {
   "cell_type": "code",
   "execution_count": null,
   "metadata": {},
   "outputs": [],
   "source": [
    "# TODO load data from various failures"
   ]
  },
  {
   "cell_type": "code",
   "execution_count": 88,
   "metadata": {},
   "outputs": [
    {
     "data": {
      "text/plain": [
       "(tensor([[[ 0.0000,  0.0000,  0.0000],\n",
       "          [-0.1232, -0.0953, -0.1550]]]),\n",
       " tensor([[[-0.5274, -0.5219, -0.7345],\n",
       "          [-1.0774, -0.7063, -0.6193]]]),\n",
       " tensor([[[ 0.0000,  0.0000,  0.0000],\n",
       "          [-0.0803,  0.0579,  0.2720]]]),\n",
       " tensor([[[ 0.0344,  0.1407,  0.1145],\n",
       "          [-0.0763, -0.0358,  0.0572]]]))"
      ]
     },
     "execution_count": 88,
     "metadata": {},
     "output_type": "execute_result"
    }
   ],
   "source": [
    "def model(initial_state, commands, observed_states=None, observed_pqr=None, dt=0.25, observation_noise_scale=1e-1):\n",
    "    \"\"\"Define a simplified model for the UAV attitude dynamics.\n",
    "\n",
    "    Args:\n",
    "        initial_state: Initial state of the UAV.\n",
    "        commands: Commands to the UAV.\n",
    "        observed_states: Observed states of the UAV.\n",
    "        observed_pqr: Observed angular velocities of the UAV.\n",
    "        dt: Time step.\n",
    "    \"\"\"\n",
    "    # Check consistency of batch and time dimensions\n",
    "    N = commands.shape[0]\n",
    "    T = commands.shape[1]\n",
    "    assert initial_state.shape[0] == N\n",
    "    assert observed_pqr is None or observed_pqr.shape[0] == N\n",
    "    assert observed_pqr is None or observed_pqr.shape[1] == T\n",
    "    assert observed_states is None or observed_states.shape[0] == N\n",
    "    assert observed_states is None or observed_states.shape[1] == T\n",
    "\n",
    "    # Use attitude dyamics with state x = [phi, theta, psi] (roll, pitch, yaw)\n",
    "    # dx/dt = J^-1 * (Ax + Ke + d + eta)\n",
    "    # where J^-1 is the kinematics, A is the state-to-state transfer matrix, K is the\n",
    "    # error-to-state transfer matrix, e is the error, d is a constant bias, and eta is\n",
    "    # Gaussian noise.\n",
    "\n",
    "    # Sample the matrices from the prior\n",
    "    A = pyro.sample(\"A\", dist.Normal(torch.zeros(3, 3), torch.ones(3, 3)))\n",
    "    K = pyro.sample(\"K\", dist.Normal(torch.zeros(3, 3), torch.ones(3, 3)))\n",
    "    d = pyro.sample(\"d\", dist.Normal(torch.zeros(3), torch.ones(3))).reshape(3, 1)\n",
    "    log_noise_strength = pyro.sample(\"log_noise_strength\", dist.Normal(-2, 1.0))\n",
    "    noise_strength = torch.exp(log_noise_strength)\n",
    "\n",
    "    # Start the simulation with an initial state\n",
    "    states = torch.zeros(N, T, 3)\n",
    "    state_observation_noise = torch.zeros(N, T, 3)\n",
    "    pqrs = torch.zeros(N, T, 3)\n",
    "    action_noise_trajectory = torch.zeros(N, T, 3)\n",
    "    \n",
    "    for t in range(1, T + 1):\n",
    "        state = states[:, t - 1].reshape(-1, 3, 1)\n",
    "        command = commands[:, t - 1].reshape(-1, 3, 1)\n",
    "\n",
    "        # Compute the error\n",
    "        e = command - state\n",
    "\n",
    "        # Get the mean velocity based on the system matrices\n",
    "        pqr_mean = A @ state + K @ e + d\n",
    "        pqrs[:, t - 1] = pqr_mean.reshape(-1, 3)\n",
    "        # Add noise\n",
    "        pqr = pyro.sample(\n",
    "            f\"pqr_{t}\",\n",
    "            dist.Normal(pqr_mean, noise_strength * torch.ones_like(pqr_mean)).to_event(2),\n",
    "            obs=observed_pqr[:, t - 1].reshape(-1, 3, 1) if observed_pqr is not None else None,\n",
    "        )\n",
    "        action_noise_trajectory[:, t - 1] = (pqr - pqr_mean).reshape(-1, 3)\n",
    "\n",
    "        # Only update the dynamics if we're not on the last step\n",
    "        if t == T:\n",
    "            continue\n",
    "\n",
    "        # Construct the kinematic matrix \n",
    "        roll, pitch = state[:, 0], state[:, 1]\n",
    "        Jinv = torch.zeros(N, 3, 3)\n",
    "        Jinv[:, 0, 0] = 1.0\n",
    "        Jinv[:, 0, 1] = torch.tan(pitch) * torch.sin(roll)\n",
    "        Jinv[:, 0, 2] = torch.tan(roll) * torch.cos(pitch)\n",
    "        Jinv[:, 1, 1] = torch.cos(roll)\n",
    "        Jinv[:, 1, 2] = -torch.sin(roll)\n",
    "        Jinv[:, 2, 1] = torch.sin(roll) / torch.cos(pitch)\n",
    "        Jinv[:, 2, 2] = torch.cos(roll) / torch.cos(pitch)\n",
    "\n",
    "        # Integrate the change in state\n",
    "        next_state = state + dt * Jinv @ pqr\n",
    "        next_state = next_state.reshape(-1, 3)\n",
    "        states[:, t] = next_state\n",
    "        observed_state = pyro.sample(\n",
    "            f\"state_{t}\",\n",
    "            dist.Normal(next_state, observation_noise_scale * torch.ones_like(next_state)).to_event(1),\n",
    "            obs=observed_states[:, t] if observed_states is not None else None,\n",
    "        )\n",
    "        state_observation_noise[:, t] = (observed_state - next_state).reshape(-1, 3)\n",
    "\n",
    "    return states, pqrs, state_observation_noise, action_noise_trajectory\n",
    "\n",
    "\n",
    "model(torch.zeros(1, 3), torch.zeros(1, 2, 3), None, None, 0.25)"
   ]
  }
 ],
 "metadata": {
  "kernelspec": {
   "display_name": ".venv",
   "language": "python",
   "name": "python3"
  },
  "language_info": {
   "codemirror_mode": {
    "name": "ipython",
    "version": 3
   },
   "file_extension": ".py",
   "mimetype": "text/x-python",
   "name": "python",
   "nbconvert_exporter": "python",
   "pygments_lexer": "ipython3",
   "version": "3.9.18"
  }
 },
 "nbformat": 4,
 "nbformat_minor": 2
}
